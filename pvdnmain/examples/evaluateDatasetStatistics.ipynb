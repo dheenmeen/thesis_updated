{
 "cells": [
  {
   "cell_type": "markdown",
   "metadata": {
    "collapsed": true,
    "pycharm": {
     "name": "#%% md\n"
    }
   },
   "source": [
    "This script calculates:\n",
    "- nbr of scenes\n",
    "- nbr of images\n",
    "- nbr of vehicle positions\n",
    "- nbr of instances\n",
    "\n",
    "The directory should look something like this (as described on official Kaggle page):\n",
    "\n",
    "- root_dir:\n",
    "    - day\n",
    "        - test\n",
    "            - images\n",
    "            - labels\n",
    "            - splits\n",
    "        - train\n",
    "            - ...\n",
    "        - val\n",
    "            - ...\n",
    "    - night\n",
    "        - test\n",
    "            - ...\n",
    "        - train\n",
    "            - ...\n",
    "        - val\n",
    "            - ..."
   ]
  },
  {
   "cell_type": "code",
   "execution_count": 1,
   "outputs": [],
   "source": [
    "import os\n",
    "import json\n",
    "from tqdm import tqdm\n",
    "\n",
    "# adjust root_dir to your path\n",
    "root_dir = \"/media/lukas/empty/EODAN_Dataset\"\n"
   ],
   "metadata": {
    "collapsed": false,
    "pycharm": {
     "name": "#%%\n"
    }
   }
  },
  {
   "cell_type": "code",
   "execution_count": 2,
   "outputs": [
    {
     "name": "stderr",
     "output_type": "stream",
     "text": [
      "100%|██████████| 19078/19078 [00:55<00:00, 344.25it/s]\n",
      "100%|██████████| 3132/3132 [00:08<00:00, 348.13it/s]\n",
      "100%|██████████| 3898/3898 [00:11<00:00, 345.58it/s]\n",
      "100%|██████████| 25264/25264 [01:14<00:00, 341.21it/s]\n",
      "100%|██████████| 4052/4052 [00:11<00:00, 344.64it/s]\n",
      "100%|██████████| 4322/4322 [00:12<00:00, 338.08it/s]\n"
     ]
    },
    {
     "name": "stdout",
     "output_type": "stream",
     "text": [
      "\n",
      "Cycle: day\tSplit: train\n",
      "{'scenes': 113, 'images': 19078, 'vehicles': 15403, 'vehicle_directs': 8138, 'instances': 45765, 'instance_directs': 27732}\n",
      "\n",
      "Cycle: day\tSplit: test\n",
      "{'scenes': 19, 'images': 3132, 'vehicles': 3045, 'vehicle_directs': 1284, 'instances': 9338, 'instance_directs': 5629}\n",
      "\n",
      "Cycle: day\tSplit: val\n",
      "{'scenes': 20, 'images': 3898, 'vehicles': 2602, 'vehicle_directs': 1300, 'instances': 7244, 'instance_directs': 3690}\n",
      "\n",
      "Total stats (day):\n",
      "{'scenes': 152, 'images': 26108, 'vehicles': 21050, 'vehicle_directs': 10722, 'instances': 62347, 'instance_directs': 37051}\n",
      "\n",
      "Cycle: night\tSplit: train\n",
      "{'scenes': 145, 'images': 25264, 'vehicles': 26615, 'vehicle_directs': 12300, 'instances': 72304, 'instance_directs': 40192}\n",
      "\n",
      "Cycle: night\tSplit: test\n",
      "{'scenes': 24, 'images': 4052, 'vehicles': 3384, 'vehicle_directs': 1962, 'instances': 10438, 'instance_directs': 5212}\n",
      "\n",
      "Cycle: night\tSplit: val\n",
      "{'scenes': 25, 'images': 4322, 'vehicles': 3600, 'vehicle_directs': 1988, 'instances': 12746, 'instance_directs': 7625}\n",
      "\n",
      "Total stats (night):\n",
      "{'scenes': 194, 'images': 33638, 'vehicles': 33599, 'vehicle_directs': 16250, 'instances': 95488, 'instance_directs': 53029}\n",
      "\n",
      "\n",
      "Total stats:\n",
      "{'scenes': 346, 'images': 59746, 'vehicles': 54649, 'vehicle_directs': 26972, 'instances': 157835, 'instance_directs': 90080}\n"
     ]
    }
   ],
   "source": [
    "root_dir = os.path.abspath(root_dir)\n",
    "light_cycles = (\"day\", \"night\")\n",
    "splits = (\"train\", \"test\", \"val\")\n",
    "\n",
    "total_stats = {\"scenes\": 0, \"images\": 0, \"vehicles\": 0, \"vehicle_directs\":\n",
    "    0, \"instances\": 0, \"instance_directs\": 0}\n",
    "\n",
    "\n",
    "for cycle in light_cycles:\n",
    "    cycle_stats = {\"scenes\": 0, \"images\": 0, \"vehicles\": 0,\n",
    "                   \"vehicle_directs\": 0, \"instances\": 0, \"instance_directs\": 0}\n",
    "    for split in splits:\n",
    "        split_stats = {\"scenes\": 0, \"images\": 0, \"vehicles\": 0,\n",
    "                       \"vehicle_directs\": 0, \"instances\": 0,\n",
    "                       \"instance_directs\": 0}\n",
    "        path = os.path.join(root_dir, cycle, split)\n",
    "        scenes = os.listdir(os.path.join(path, \"images\"))\n",
    "\n",
    "        split_stats[\"scenes\"] = len(scenes)\n",
    "        images = []\n",
    "\n",
    "        # check each scene\n",
    "        for scene in scenes:\n",
    "            # get image files for each scene\n",
    "            images += os.listdir(os.path.join(path, \"images\", scene))\n",
    "        split_stats[\"images\"] = len(images)\n",
    "\n",
    "        # for each image, check the annotation file\n",
    "        kp_annot_path = os.path.join(path, \"labels/keypoints\")\n",
    "        annot_files = os.listdir(kp_annot_path)\n",
    "        for img in tqdm(images):\n",
    "            with open(os.path.join(kp_annot_path, f\"{img.split('.')[0]}\"\n",
    "                                                  f\".json\")) as f:\n",
    "                annot = json.load(f)[\"annotations\"]\n",
    "            # nbr of vehicles\n",
    "            split_stats[\"vehicles\"] += len(annot)\n",
    "\n",
    "            # nbr of direct vehicles\n",
    "            split_stats[\"vehicle_directs\"] += sum([int(vehicle[\"direct\"]) for\n",
    "                                                  vehicle in annot])\n",
    "\n",
    "            # nbr of instances\n",
    "            split_stats[\"instances\"] += sum([len(vehicle[\"instances\"]) for\n",
    "                                             vehicle in annot])\n",
    "\n",
    "            # nbr of direct instances\n",
    "            split_stats[\"instance_directs\"] += sum([int(inst[\"direct\"]) for\n",
    "                                                    vehicle in annot for\n",
    "                                                    inst in\n",
    "                                                    vehicle[\"instances\"]])\n",
    "\n",
    "        print(\"\\nCycle: {}\\tSplit: {}\".format(cycle, split))\n",
    "        print(split_stats)\n",
    "\n",
    "        cycle_stats = {k: cycle_stats[k]+v for k, v in split_stats.items()}\n",
    "    print(\"---------------------------------------------------\")\n",
    "    print(f\"Total stats ({cycle}):\")\n",
    "    print(cycle_stats)\n",
    "    print(\"\")\n",
    "\n",
    "    total_stats = {k: total_stats[k]+v for k, v in cycle_stats.items()}\n",
    "\n",
    "print(\"\\n\\nTotal stats:\")\n",
    "print(total_stats)"
   ],
   "metadata": {
    "collapsed": false,
    "pycharm": {
     "name": "#%%\n"
    }
   }
  },
  {
   "cell_type": "code",
   "execution_count": 6,
   "outputs": [
    {
     "name": "stdout",
     "output_type": "stream",
     "text": [
      "Relative directs/ indirects:\n",
      "Vehicles:\t Directs: 49.35497447345789%\tIndirects: 50.645025526542106%\n",
      "Instances:\t Directs: 57.072259004656765%\tIndirects: 42.927740995343235%\n"
     ]
    }
   ],
   "source": [
    "rel_vehicle_directs = total_stats[\"vehicle_directs\"] / total_stats[\"vehicles\"]\n",
    "rel_instance_directs = total_stats[\"instance_directs\"] /  \\\n",
    "                       total_stats[\"instances\"]\n",
    "\n",
    "print(\"Relative directs/ indirects:\")\n",
    "print(f\"Vehicles:\\t Directs: {rel_vehicle_directs*100}%\\tIndirects: \"\n",
    "      f\"{(1-rel_vehicle_directs)*100}%\")\n",
    "print(f\"Instances:\\t Directs: {rel_instance_directs*100}%\\tIndirects: \"\n",
    "      f\"{(1-rel_instance_directs)*100}%\")"
   ],
   "metadata": {
    "collapsed": false,
    "pycharm": {
     "name": "#%%\n"
    }
   }
  },
  {
   "cell_type": "code",
   "execution_count": null,
   "outputs": [],
   "source": [],
   "metadata": {
    "collapsed": false,
    "pycharm": {
     "name": "#%%\n"
    }
   }
  }
 ],
 "metadata": {
  "kernelspec": {
   "name": "python3",
   "language": "python",
   "display_name": "Python 3"
  },
  "language_info": {
   "codemirror_mode": {
    "name": "ipython",
    "version": 2
   },
   "file_extension": ".py",
   "mimetype": "text/x-python",
   "name": "python",
   "nbconvert_exporter": "python",
   "pygments_lexer": "ipython2",
   "version": "2.7.6"
  }
 },
 "nbformat": 4,
 "nbformat_minor": 0
}